{
  "nbformat": 4,
  "nbformat_minor": 0,
  "metadata": {
    "colab": {
      "provenance": [],
      "collapsed_sections": [
        "I82_BDX0RID6",
        "E8_qVxUcVHc7",
        "iBd5EiaRVRTP",
        "UXWREyp-eYmW",
        "UCCrwKmHd1Pk",
        "5aQcJJIaeFG0",
        "92ZXf_-BWNY3",
        "jtKx-ZpMfF8_",
        "JFAnjnLWf5Z9",
        "77r2r9Ua1SQ1",
        "88J1eVD9YlCj",
        "xr4wIA7P3eAH",
        "d_HR__Po3iGF",
        "JBJxsLHPl-az",
        "FCSgL2vK35CU"
      ]
    },
    "kernelspec": {
      "name": "python3",
      "display_name": "Python 3"
    },
    "language_info": {
      "name": "python"
    }
  },
  "cells": [
    {
      "cell_type": "markdown",
      "source": [
        "# Эксперименты для точной настройки (Fine-tuning) chatGPT (OpenAI) на своих данных"
      ],
      "metadata": {
        "id": "n9UJdkMIWxr7"
      }
    },
    {
      "cell_type": "markdown",
      "source": [
        "**Для примера мы обучим модель** так, чтобы сотрудник компании мог **вводить описание товара в свободной форме** (набирая текст руками или голосовым вводом), модель будет преобразовывать в фиксированных набор параметров (характеристик) в JSON, а затем система преобразует его в форматированную карточку товара в HTML, что может быть полезным инструментом в работе.\n",
        "\n",
        "Определим фиксированный набор универсальных характеристик для компьютерной техники и периферии. Например, можно использовать следующие 10 характеристик:\n",
        "\n",
        "1. Название\n",
        "2. Вес\n",
        "3. Размер/диагональ\n",
        "4. Цвет\n",
        "5. Память/накопитель\n",
        "6. Процессор\n",
        "7. Разрешение\n",
        "8. Порты/интерфейсы\n",
        "9. Скорость\n",
        "10. Комментарий\n",
        "\n",
        "В запросе пользователя могут присутствовать все характеристики, меньше (ставим прочерки в форме) или больше (пишем в поле комментарий)."
      ],
      "metadata": {
        "id": "7U2JHLLJJJIM"
      }
    },
    {
      "cell_type": "markdown",
      "source": [
        "## Выполняем установку зависимостей"
      ],
      "metadata": {
        "id": "I82_BDX0RID6"
      }
    },
    {
      "cell_type": "code",
      "execution_count": null,
      "metadata": {
        "colab": {
          "base_uri": "https://localhost:8080/"
        },
        "id": "IjNYC9kiGR4P",
        "outputId": "51c95cd1-d71b-41b4-fc23-a6b021aff010"
      },
      "outputs": [
        {
          "output_type": "stream",
          "name": "stdout",
          "text": [
            "Collecting openai==1.16.1\n",
            "  Downloading openai-1.16.1-py3-none-any.whl (266 kB)\n",
            "\u001b[2K     \u001b[90m━━━━━━━━━━━━━━━━━━━━━━━━━━━━━━━━━━━━━━━━\u001b[0m \u001b[32m266.9/266.9 kB\u001b[0m \u001b[31m2.5 MB/s\u001b[0m eta \u001b[36m0:00:00\u001b[0m\n",
            "\u001b[?25hCollecting tiktoken==0.6.0\n",
            "  Downloading tiktoken-0.6.0-cp310-cp310-manylinux_2_17_x86_64.manylinux2014_x86_64.whl (1.8 MB)\n",
            "\u001b[2K     \u001b[90m━━━━━━━━━━━━━━━━━━━━━━━━━━━━━━━━━━━━━━━━\u001b[0m \u001b[32m1.8/1.8 MB\u001b[0m \u001b[31m20.3 MB/s\u001b[0m eta \u001b[36m0:00:00\u001b[0m\n",
            "\u001b[?25hRequirement already satisfied: anyio<5,>=3.5.0 in /usr/local/lib/python3.10/dist-packages (from openai==1.16.1) (3.7.1)\n",
            "Requirement already satisfied: distro<2,>=1.7.0 in /usr/lib/python3/dist-packages (from openai==1.16.1) (1.7.0)\n",
            "Collecting httpx<1,>=0.23.0 (from openai==1.16.1)\n",
            "  Downloading httpx-0.27.0-py3-none-any.whl (75 kB)\n",
            "\u001b[2K     \u001b[90m━━━━━━━━━━━━━━━━━━━━━━━━━━━━━━━━━━━━━━━━\u001b[0m \u001b[32m75.6/75.6 kB\u001b[0m \u001b[31m6.1 MB/s\u001b[0m eta \u001b[36m0:00:00\u001b[0m\n",
            "\u001b[?25hRequirement already satisfied: pydantic<3,>=1.9.0 in /usr/local/lib/python3.10/dist-packages (from openai==1.16.1) (2.7.1)\n",
            "Requirement already satisfied: sniffio in /usr/local/lib/python3.10/dist-packages (from openai==1.16.1) (1.3.1)\n",
            "Requirement already satisfied: tqdm>4 in /usr/local/lib/python3.10/dist-packages (from openai==1.16.1) (4.66.4)\n",
            "Requirement already satisfied: typing-extensions<5,>=4.7 in /usr/local/lib/python3.10/dist-packages (from openai==1.16.1) (4.11.0)\n",
            "Requirement already satisfied: regex>=2022.1.18 in /usr/local/lib/python3.10/dist-packages (from tiktoken==0.6.0) (2023.12.25)\n",
            "Requirement already satisfied: requests>=2.26.0 in /usr/local/lib/python3.10/dist-packages (from tiktoken==0.6.0) (2.31.0)\n",
            "Requirement already satisfied: idna>=2.8 in /usr/local/lib/python3.10/dist-packages (from anyio<5,>=3.5.0->openai==1.16.1) (3.7)\n",
            "Requirement already satisfied: exceptiongroup in /usr/local/lib/python3.10/dist-packages (from anyio<5,>=3.5.0->openai==1.16.1) (1.2.1)\n",
            "Requirement already satisfied: certifi in /usr/local/lib/python3.10/dist-packages (from httpx<1,>=0.23.0->openai==1.16.1) (2024.2.2)\n",
            "Collecting httpcore==1.* (from httpx<1,>=0.23.0->openai==1.16.1)\n",
            "  Downloading httpcore-1.0.5-py3-none-any.whl (77 kB)\n",
            "\u001b[2K     \u001b[90m━━━━━━━━━━━━━━━━━━━━━━━━━━━━━━━━━━━━━━━━\u001b[0m \u001b[32m77.9/77.9 kB\u001b[0m \u001b[31m6.4 MB/s\u001b[0m eta \u001b[36m0:00:00\u001b[0m\n",
            "\u001b[?25hCollecting h11<0.15,>=0.13 (from httpcore==1.*->httpx<1,>=0.23.0->openai==1.16.1)\n",
            "  Downloading h11-0.14.0-py3-none-any.whl (58 kB)\n",
            "\u001b[2K     \u001b[90m━━━━━━━━━━━━━━━━━━━━━━━━━━━━━━━━━━━━━━━━\u001b[0m \u001b[32m58.3/58.3 kB\u001b[0m \u001b[31m6.0 MB/s\u001b[0m eta \u001b[36m0:00:00\u001b[0m\n",
            "\u001b[?25hRequirement already satisfied: annotated-types>=0.4.0 in /usr/local/lib/python3.10/dist-packages (from pydantic<3,>=1.9.0->openai==1.16.1) (0.6.0)\n",
            "Requirement already satisfied: pydantic-core==2.18.2 in /usr/local/lib/python3.10/dist-packages (from pydantic<3,>=1.9.0->openai==1.16.1) (2.18.2)\n",
            "Requirement already satisfied: charset-normalizer<4,>=2 in /usr/local/lib/python3.10/dist-packages (from requests>=2.26.0->tiktoken==0.6.0) (3.3.2)\n",
            "Requirement already satisfied: urllib3<3,>=1.21.1 in /usr/local/lib/python3.10/dist-packages (from requests>=2.26.0->tiktoken==0.6.0) (2.0.7)\n",
            "Installing collected packages: h11, tiktoken, httpcore, httpx, openai\n",
            "Successfully installed h11-0.14.0 httpcore-1.0.5 httpx-0.27.0 openai-1.16.1 tiktoken-0.6.0\n"
          ]
        }
      ],
      "source": [
        "!pip install openai==1.16.1 tiktoken==0.6.0"
      ]
    },
    {
      "cell_type": "markdown",
      "source": [
        "## Выполняем импорты библиотек"
      ],
      "metadata": {
        "id": "E8_qVxUcVHc7"
      }
    },
    {
      "cell_type": "code",
      "source": [
        "import openai\n",
        "import re\n",
        "import json\n",
        "import os\n",
        "import getpass\n",
        "from datetime import datetime\n",
        "from openai import OpenAI\n",
        "import requests\n",
        "import time\n",
        "import pandas as pd\n",
        "from tqdm.notebook import trange, tqdm\n",
        "from IPython.display import display\n",
        "from IPython.display import HTML, clear_output"
      ],
      "metadata": {
        "id": "yHvdmUOkGeT-"
      },
      "execution_count": null,
      "outputs": []
    },
    {
      "cell_type": "markdown",
      "source": [
        "## Подготовка данных"
      ],
      "metadata": {
        "id": "iBd5EiaRVRTP"
      }
    },
    {
      "cell_type": "markdown",
      "source": [
        "С помощью интерактивного инструмента из ноутбука создал небольшой датасет из 10 примеров и сохранили в JSONL формат."
      ],
      "metadata": {
        "id": "Z8bFyM9FqEJN"
      }
    },
    {
      "cell_type": "markdown",
      "source": [
        "![image.png](data:image/png;base64,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)"
      ],
      "metadata": {
        "id": "IUIpIExZqUDV"
      }
    },
    {
      "cell_type": "code",
      "source": [
        "# Установка ключа OpenAI\n",
        "os.environ[\"OPENAI_API_KEY\"] = getpass.getpass(\"Введите OpenAI API Key и нажмите Enter:\")\n",
        "\n",
        "# Создание клиента OpenAI\n",
        "client = OpenAI(\n",
        "  api_key=os.environ['OPENAI_API_KEY'],  # this is also the default, it can be omitted\n",
        ")\n",
        "\n",
        "# Функция настройки стиля для переноса текста в выводе ячеек\n",
        "def set_text_wrap_css():\n",
        "    css = '''\n",
        "    <style>\n",
        "    pre {\n",
        "        white-space: pre-wrap;\n",
        "    }\n",
        "    </style>\n",
        "    '''\n",
        "    display(HTML(css))\n",
        "\n",
        "get_ipython().events.register('pre_run_cell', set_text_wrap_css)"
      ],
      "metadata": {
        "id": "Jl-Oz3puIAgI",
        "colab": {
          "base_uri": "https://localhost:8080/"
        },
        "outputId": "0d384570-8683-4384-e1c1-4317e536510f"
      },
      "execution_count": null,
      "outputs": [
        {
          "name": "stdout",
          "output_type": "stream",
          "text": [
            "Введите OpenAI API Key и нажмите Enter:··········\n"
          ]
        }
      ]
    },
    {
      "cell_type": "markdown",
      "source": [
        "## Анализ подготовленных данных для тонкой настройки модели gpt-3.5-turbo https://cookbook.openai.com/examples/chat_finetuning_data_prep"
      ],
      "metadata": {
        "id": "UXWREyp-eYmW"
      }
    },
    {
      "cell_type": "code",
      "source": [
        "import json\n",
        "import tiktoken # for token counting\n",
        "import numpy as np\n",
        "from collections import defaultdict"
      ],
      "metadata": {
        "id": "gBI6N9WOdv_3",
        "colab": {
          "base_uri": "https://localhost:8080/",
          "height": 17
        },
        "outputId": "d17e17da-4039-4b54-f5b3-9a1f89aeeaab"
      },
      "execution_count": null,
      "outputs": [
        {
          "output_type": "display_data",
          "data": {
            "text/plain": [
              "<IPython.core.display.HTML object>"
            ],
            "text/html": [
              "\n",
              "    <style>\n",
              "    pre {\n",
              "        white-space: pre-wrap;\n",
              "    }\n",
              "    </style>\n",
              "    "
            ]
          },
          "metadata": {}
        }
      ]
    },
    {
      "cell_type": "markdown",
      "source": [
        "### Загрузка данных. Сначала мы загружаем набор данных чата из примера файла JSONL ."
      ],
      "metadata": {
        "id": "UCCrwKmHd1Pk"
      }
    },
    {
      "cell_type": "code",
      "source": [
        "data_path = \"fine_tune_dataset_dz.jsonl\"\n",
        "\n",
        "# Load the dataset\n",
        "with open(data_path, 'r', encoding='utf-8') as f:\n",
        "    dataset = [json.loads(line) for line in f]\n",
        "\n",
        "# Initial dataset stats\n",
        "print(\"Число примеров:\", len(dataset))\n",
        "print(\"Первый пример:\")\n",
        "try:\n",
        "  for message in dataset[0][\"messages\"]:\n",
        "      print(message)\n",
        "except IndexError as e:\n",
        "  print(f\"В датасете нет данных или имеют не верный формат {e}\")"
      ],
      "metadata": {
        "colab": {
          "base_uri": "https://localhost:8080/",
          "height": 218
        },
        "id": "-o2Wt3MUd0Zk",
        "outputId": "89fc2bf1-f65f-4007-b479-e4df9dc5b88e"
      },
      "execution_count": null,
      "outputs": [
        {
          "output_type": "display_data",
          "data": {
            "text/plain": [
              "<IPython.core.display.HTML object>"
            ],
            "text/html": [
              "\n",
              "    <style>\n",
              "    pre {\n",
              "        white-space: pre-wrap;\n",
              "    }\n",
              "    </style>\n",
              "    "
            ]
          },
          "metadata": {}
        },
        {
          "output_type": "stream",
          "name": "stdout",
          "text": [
            "Число примеров: 10\n",
            "Первый пример:\n",
            "{'role': 'system', 'content': 'Укажите следующие поля в JSON словаре: \\\\\"Название\\\\\", \\\\\"Вес\\\\\", \\\\\"Размер/диагональ\\\\\", \\\\\"Цвет\\\\\", \\\\\"Память/накопитель\\\\\", \\\\\"Процессор\\\\\", \\\\\"Разрешение\\\\\", \\\\\"Порты/интерфейсы\\\\\", \\\\\"Скорость\\\\\", and \\\\\"Комментарий\\\\\".'}\n",
            "{'role': 'user', 'content': 'Монитор для офиса. Вес 5 килограммов, диагональ 27 дюймов, черный цвет, разрешение 2560x1440 пикселей, поддержка HDMI и DisplayPort.'}\n",
            "{'role': 'assistant', 'content': '{\\\\\"Название\\\\\": \\\\\"Монитор\\\\\", \\\\\"Вес\\\\\": \\\\\"5 кг\\\\\", \\\\\"Размер/диагональ\\\\\": \\\\\"27 дюймов\\\\\", \\\\\"Цвет\\\\\": \\\\\"Черный\\\\\", \\\\\"Память/накопитель\\\\\": null, \\\\\"Процессор\\\\\": null, \\\\\"Разрешение\\\\\": \\\\\"2560x1440 пикселей\\\\\", \\\\\"Порты/интерфейсы\\\\\": \\\\\"HDMI, DisplayPort\\\\\", \\\\\"Скорость\\\\\": null, \\\\\"Комментарий\\\\\": null}'}\n"
          ]
        }
      ]
    },
    {
      "cell_type": "markdown",
      "source": [
        "### Проверка формата\n",
        "\n",
        "Мы можем выполнить различные проверки ошибок, чтобы убедиться, что каждый разговор в наборе данных соответствует формату, ожидаемому API тонкой настройки. Ошибки классифицируются в зависимости от их характера для облегчения отладки.\n",
        "\n"
      ],
      "metadata": {
        "id": "5aQcJJIaeFG0"
      }
    },
    {
      "cell_type": "markdown",
      "source": [
        "* **Проверка типа данных** : проверяет, является ли каждая запись в наборе данных словарем ( dict). Тип ошибки: data_type.\n",
        "* **Наличие списка сообщений** : проверяет, messagesприсутствует ли список в каждой записи. Тип ошибки: missing_messages_list.\n",
        "* **Проверка ключей сообщений** : проверяет, что каждое сообщение в messagesсписке содержит ключи roleи content. Тип ошибки: message_missing_key.\n",
        "* **Нераспознанные ключи в сообщениях** : регистрируется, если в сообщении есть ключи, отличные от role, content, weight, function_callи name. Тип ошибки: message_unrecognized_key.\n",
        "* **Проверка роли** : проверяет, roleявляется ли роль «системой», «пользователем» или «помощником». Тип ошибки: unrecognized_role.\n",
        "* **Проверка содержимого** : проверяет contentналичие текстовых данных и является строкой. Тип ошибки: missing_content.\n",
        "* **Наличие сообщения помощника** : проверяет, есть ли в каждом разговоре хотя бы одно сообщение от помощника. Тип ошибки: example_missing_assistant_message."
      ],
      "metadata": {
        "id": "jA-EWVcbVy1K"
      }
    },
    {
      "cell_type": "code",
      "source": [
        "# Format error checks\n",
        "format_errors = defaultdict(int)\n",
        "\n",
        "for ex in dataset:\n",
        "    if not isinstance(ex, dict):\n",
        "        format_errors[\"data_type\"] += 1\n",
        "        continue\n",
        "\n",
        "    messages = ex.get(\"messages\", None)\n",
        "    if not messages:\n",
        "        format_errors[\"missing_messages_list\"] += 1\n",
        "        continue\n",
        "\n",
        "    for message in messages:\n",
        "        if \"role\" not in message or \"content\" not in message:\n",
        "            format_errors[\"message_missing_key\"] += 1\n",
        "\n",
        "        if any(k not in (\"role\", \"content\", \"name\", \"function_call\", \"weight\") for k in message):\n",
        "            format_errors[\"message_unrecognized_key\"] += 1\n",
        "\n",
        "        if message.get(\"role\", None) not in (\"system\", \"user\", \"assistant\", \"function\"):\n",
        "            format_errors[\"unrecognized_role\"] += 1\n",
        "\n",
        "        content = message.get(\"content\", None)\n",
        "        function_call = message.get(\"function_call\", None)\n",
        "\n",
        "        if (not content and not function_call) or not isinstance(content, str):\n",
        "            format_errors[\"missing_content\"] += 1\n",
        "\n",
        "    if not any(message.get(\"role\", None) == \"assistant\" for message in messages):\n",
        "        format_errors[\"example_missing_assistant_message\"] += 1\n",
        "\n",
        "if format_errors:\n",
        "    print(\"Обнаружены следующие ошибки:\")\n",
        "    for k, v in format_errors.items():\n",
        "        print(f\"{k}: {v}\")\n",
        "else:\n",
        "    print(\"Ошибок не обнаружено\")"
      ],
      "metadata": {
        "colab": {
          "base_uri": "https://localhost:8080/",
          "height": 35
        },
        "id": "ArMMV6FGeRCY",
        "outputId": "0ae9ec62-82c0-4386-b1f5-fbc3e0844c93"
      },
      "execution_count": null,
      "outputs": [
        {
          "output_type": "display_data",
          "data": {
            "text/plain": [
              "<IPython.core.display.HTML object>"
            ],
            "text/html": [
              "\n",
              "    <style>\n",
              "    pre {\n",
              "        white-space: pre-wrap;\n",
              "    }\n",
              "    </style>\n",
              "    "
            ]
          },
          "metadata": {}
        },
        {
          "output_type": "stream",
          "name": "stdout",
          "text": [
            "Ошибок не обнаружено\n"
          ]
        }
      ]
    },
    {
      "cell_type": "markdown",
      "source": [
        "### Утилиты для подсчета токенов"
      ],
      "metadata": {
        "id": "hRAS50R_eLPk"
      }
    },
    {
      "cell_type": "markdown",
      "source": [
        "#### Функции"
      ],
      "metadata": {
        "id": "92ZXf_-BWNY3"
      }
    },
    {
      "cell_type": "code",
      "source": [
        "encoding = tiktoken.get_encoding(\"cl100k_base\")\n",
        "\n",
        "# not exact!\n",
        "# simplified from https://github.com/openai/openai-cookbook/blob/main/examples/How_to_count_tokens_with_tiktoken.ipynb\n",
        "def num_tokens_from_messages(messages, tokens_per_message=3, tokens_per_name=1):\n",
        "    num_tokens = 0\n",
        "    for message in messages:\n",
        "        num_tokens += tokens_per_message\n",
        "        for key, value in message.items():\n",
        "            num_tokens += len(encoding.encode(value))\n",
        "            if key == \"name\":\n",
        "                num_tokens += tokens_per_name\n",
        "    num_tokens += 3\n",
        "    return num_tokens\n",
        "\n",
        "def num_assistant_tokens_from_messages(messages):\n",
        "    num_tokens = 0\n",
        "    for message in messages:\n",
        "        if message[\"role\"] == \"assistant\":\n",
        "            num_tokens += len(encoding.encode(message[\"content\"]))\n",
        "    return num_tokens\n",
        "\n",
        "def print_distribution(values, name):\n",
        "    print(f\"\\n#### Распредделение в {name}:\")\n",
        "    print(f\"min / max: {min(values)}, {max(values)}\")\n",
        "    print(f\"mean / median: {np.mean(values)}, {np.median(values)}\")\n",
        "    print(f\"p5 / p95: {np.quantile(values, 0.1)}, {np.quantile(values, 0.9)}\")"
      ],
      "metadata": {
        "id": "i52UkEHWewPO",
        "colab": {
          "base_uri": "https://localhost:8080/"
        },
        "outputId": "f7fc2dab-11dd-4b3f-8276-15d6c554c80e"
      },
      "execution_count": null,
      "outputs": [
        {
          "output_type": "display_data",
          "data": {
            "text/plain": [
              "<IPython.core.display.HTML object>"
            ],
            "text/html": [
              "\n",
              "    <style>\n",
              "    pre {\n",
              "        white-space: pre-wrap;\n",
              "    }\n",
              "    </style>\n",
              "    "
            ]
          },
          "metadata": {}
        }
      ]
    },
    {
      "cell_type": "markdown",
      "source": [
        "#### Предупреждения о данных и количество токенов\n",
        "\n",
        "С помощью легкого анализа мы можем выявить потенциальные проблемы в наборе данных, например пропущенные сообщения, и предоставить статистическую информацию о количестве сообщений и токенов."
      ],
      "metadata": {
        "id": "jtKx-ZpMfF8_"
      }
    },
    {
      "cell_type": "markdown",
      "source": [
        "*  **Отсутствующие системные/пользовательские сообщения** : подсчитывает количество\n",
        "разговоров, в которых отсутствует «системное» или «пользовательское» сообщение. Такие сообщения имеют решающее значение для определения поведения помощника и начала разговора.\n",
        "*  **Количество сообщений в примере** : суммирует распределение количества сообщений в каждом разговоре, предоставляя представление о сложности диалога.\n",
        "*  **Всего токенов в примере** : рассчитывает и суммирует распределение общего количества токенов в каждом разговоре. Важно для понимания затрат на тонкую настройку.\n",
        "*  **Токены в сообщениях помощника** : подсчитывает количество токенов в сообщениях помощника за разговор и суммирует это распределение. Полезно для понимания многословности помощника.\n",
        "*  **Предупреждения о лимите токенов** : проверяется, не превышают ли какие-либо примеры максимальный лимит токенов (4096 токенов), поскольку такие примеры будут усечены во время тонкой настройки, что может привести к потере данных."
      ],
      "metadata": {
        "id": "aM8ObtlCWSJ3"
      }
    },
    {
      "cell_type": "code",
      "source": [
        "# Warnings and tokens counts\n",
        "n_missing_system = 0\n",
        "n_missing_user = 0\n",
        "n_messages = []\n",
        "convo_lens = []\n",
        "assistant_message_lens = []\n",
        "\n",
        "for ex in dataset:\n",
        "    messages = ex[\"messages\"]\n",
        "    if not any(message[\"role\"] == \"system\" for message in messages):\n",
        "        n_missing_system += 1\n",
        "    if not any(message[\"role\"] == \"user\" for message in messages):\n",
        "        n_missing_user += 1\n",
        "    n_messages.append(len(messages))\n",
        "    convo_lens.append(num_tokens_from_messages(messages))\n",
        "    assistant_message_lens.append(num_assistant_tokens_from_messages(messages))\n",
        "\n",
        "print(\"Число примеров отсутствующего системного сообщения:\", n_missing_system)\n",
        "print(\"Число примеров отсутствующего сообщения пользователя:\", n_missing_user)\n",
        "print_distribution(n_messages, \"Распределение количества_сообщений_на_пример\")\n",
        "print_distribution(convo_lens, \"Распределение количества_токенов_на_пример\")\n",
        "print_distribution(assistant_message_lens, \"Распределение количества_токенов_ассистента_на_пример\")\n",
        "n_too_long = sum(l > 4096 for l in convo_lens)\n",
        "print(f\"\\n{n_too_long} пример может превышать лимит токенов 4096, они будут усечены во время тонкой настройки\")"
      ],
      "metadata": {
        "colab": {
          "base_uri": "https://localhost:8080/",
          "height": 364
        },
        "id": "V6Jp5TV1f1EG",
        "outputId": "18cb18fb-1071-4f44-f943-c70ff53a9868"
      },
      "execution_count": null,
      "outputs": [
        {
          "output_type": "display_data",
          "data": {
            "text/plain": [
              "<IPython.core.display.HTML object>"
            ],
            "text/html": [
              "\n",
              "    <style>\n",
              "    pre {\n",
              "        white-space: pre-wrap;\n",
              "    }\n",
              "    </style>\n",
              "    "
            ]
          },
          "metadata": {}
        },
        {
          "output_type": "stream",
          "name": "stdout",
          "text": [
            "Число примеров отсутствующего системного сообщения: 0\n",
            "Число примеров отсутствующего сообщения пользователя: 0\n",
            "\n",
            "#### Распредделение в Распределение количества_сообщений_на_пример:\n",
            "min / max: 3, 3\n",
            "mean / median: 3.0, 3.0\n",
            "p5 / p95: 3.0, 3.0\n",
            "\n",
            "#### Распредделение в Распределение количества_токенов_на_пример:\n",
            "min / max: 287, 327\n",
            "mean / median: 307.3, 304.0\n",
            "p5 / p95: 290.6, 325.2\n",
            "\n",
            "#### Распредделение в Распределение количества_токенов_ассистента_на_пример:\n",
            "min / max: 121, 144\n",
            "mean / median: 132.0, 133.0\n",
            "p5 / p95: 121.9, 141.3\n",
            "\n",
            "0 пример может превышать лимит токенов 4096, они будут усечены во время тонкой настройки\n"
          ]
        }
      ]
    },
    {
      "cell_type": "markdown",
      "source": [
        "#### Оценка затрат\n",
        "\n",
        "В этом последнем разделе мы оцениваем общее количество токенов, которые будут использоваться для тонкой настройки, что позволяет нам приблизительно оценить стоимость. Стоит отметить, что продолжительность работ по тонкой настройке также будет увеличиваться вместе с количеством токенов."
      ],
      "metadata": {
        "id": "JFAnjnLWf5Z9"
      }
    },
    {
      "cell_type": "code",
      "source": [
        "# Pricing and default n_epochs estimate\n",
        "MAX_TOKENS_PER_EXAMPLE = 4096\n",
        "\n",
        "TARGET_EPOCHS = 7\n",
        "MIN_TARGET_EXAMPLES = 100\n",
        "MAX_TARGET_EXAMPLES = 25000\n",
        "MIN_DEFAULT_EPOCHS = 1\n",
        "MAX_DEFAULT_EPOCHS = 25\n",
        "\n",
        "n_epochs = TARGET_EPOCHS\n",
        "n_train_examples = len(dataset)\n",
        "if n_train_examples * TARGET_EPOCHS < MIN_TARGET_EXAMPLES:\n",
        "    n_epochs = min(MAX_DEFAULT_EPOCHS, MIN_TARGET_EXAMPLES // n_train_examples)\n",
        "elif n_train_examples * TARGET_EPOCHS > MAX_TARGET_EXAMPLES:\n",
        "    n_epochs = max(MIN_DEFAULT_EPOCHS, MAX_TARGET_EXAMPLES // n_train_examples)\n",
        "\n",
        "n_billing_tokens_in_dataset = sum(min(MAX_TOKENS_PER_EXAMPLE, length) for length in convo_lens)\n",
        "print(f\"Набор данных содержит ~{n_billing_tokens_in_dataset} токенов, за которые будет взиматься плата во время обучения.\")\n",
        "print(f\"По умолчанию вы будете обучаться в течение {n_epochs} эпох в этом наборе данных.\")\n",
        "print(f\"По умолчанию с вас будет взиматься плата за ~{n_epochs * n_billing_tokens_in_dataset} токенов\")"
      ],
      "metadata": {
        "colab": {
          "base_uri": "https://localhost:8080/"
        },
        "id": "VnlmYMOHf6Kh",
        "outputId": "49a10417-91a3-418a-d5a7-461b787fa2e1"
      },
      "execution_count": null,
      "outputs": [
        {
          "output_type": "display_data",
          "data": {
            "text/plain": [
              "<IPython.core.display.HTML object>"
            ],
            "text/html": [
              "\n",
              "    <style>\n",
              "    pre {\n",
              "        white-space: pre-wrap;\n",
              "    }\n",
              "    </style>\n",
              "    "
            ]
          },
          "metadata": {}
        },
        {
          "output_type": "stream",
          "name": "stdout",
          "text": [
            "Набор данных содержит ~3073 токенов, за которые будет взиматься плата во время обучения.\n",
            "По умолчанию вы будете обучаться в течение 10 эпох в этом наборе данных.\n",
            "По умолчанию с вас будет взиматься плата за ~30730 токенов\n"
          ]
        }
      ]
    },
    {
      "cell_type": "markdown",
      "source": [
        "## Загрузить файл обучения\n",
        "\n",
        "После проверки данных файл необходимо загрузить с помощью Files API , чтобы его можно было использовать в заданиях по точной настройке:"
      ],
      "metadata": {
        "id": "77r2r9Ua1SQ1"
      }
    },
    {
      "cell_type": "markdown",
      "source": [
        "Этоти фрагмент кода используется для загрузки файла данных в сервис OpenAI с целью последующего дообучения (fine-tuning) модели искусственного интеллекта:\n",
        "\n",
        "1. **Загрузка файла для дообучения**: Вызывается метод `client.files.create()`, который служит для загрузки файла в OpenAI. Аргументы метода указывают на следующее:\n",
        "   - `file=open(\"fine_tune_dataset_dz.jsonl\", \"rb\")` открывает файл `fine_tune_dataset_dz.jsonl` в бинарном режиме (`\"rb\"`). Этот файл предполагается содержать данные для дообучения модели в формате JSONL, где каждая строка является отдельным JSON объектом.\n",
        "   - `purpose=\"fine-tune\"` указывает, что файл загружается с целью дообучения модели. Этот параметр важен, поскольку определяет, как OpenAI будет обрабатывать и использовать загруженный файл.\n",
        "\n",
        "В результате выполнения этого кода файл `fine_tune_dataset_dz.jsonl` загружается в систему OpenAI, где он может быть использован для дообучения существующей модели искусственного интеллекта. Дообучение позволяет модели лучше адаптироваться к конкретным задачам, типам запросов или стилю диалога, основываясь на предоставленных данных."
      ],
      "metadata": {
        "id": "AhvUEQPkX1t4"
      }
    },
    {
      "cell_type": "code",
      "source": [
        "client.files.create(\n",
        "  file=open(\"fine_tune_dataset_dz.jsonl\", \"rb\"),\n",
        "  purpose=\"fine-tune\"\n",
        ")"
      ],
      "metadata": {
        "id": "8BMf8FQ91Sfv",
        "colab": {
          "base_uri": "https://localhost:8080/",
          "height": 54
        },
        "outputId": "d998005d-447b-4d80-c657-7703e9dc2c63"
      },
      "execution_count": null,
      "outputs": [
        {
          "output_type": "display_data",
          "data": {
            "text/plain": [
              "<IPython.core.display.HTML object>"
            ],
            "text/html": [
              "\n",
              "    <style>\n",
              "    pre {\n",
              "        white-space: pre-wrap;\n",
              "    }\n",
              "    </style>\n",
              "    "
            ]
          },
          "metadata": {}
        },
        {
          "output_type": "execute_result",
          "data": {
            "text/plain": [
              "FileObject(id='file-TLiH0em1jH65ArglME7bMTiD', bytes=28308, created_at=1715867780, filename='fine_tune_dataset_dz.jsonl', object='file', purpose='fine-tune', status='processed', status_details=None)"
            ]
          },
          "metadata": {},
          "execution_count": 11
        }
      ]
    },
    {
      "cell_type": "markdown",
      "source": [
        "## Запуск процесса обучения"
      ],
      "metadata": {
        "id": "88J1eVD9YlCj"
      }
    },
    {
      "cell_type": "markdown",
      "source": [
        "Этот код инициирует процесс дообучения (fine-tuning) модели искусственного интеллекта с использованием API OpenAI. В нём задаются параметры дообучения, включая указание на файл с данными, модель для дообучения, гиперпараметры дообучения и суффикс для идентификации дообученной модели:\n",
        "\n",
        "1. **Запуск задачи дообучения**: Метод `client.fine_tuning.jobs.create()` используется для создания и запуска задачи дообучения модели.\n",
        "\n",
        "2. **Указание файла для тренировки**: Аргумент `training_file` принимает идентификатор файла, который был загружен ранее и будет использоваться для дообучения. В данном случае `\"file-TLiH0em1jH65ArglME7bMTiD\"` — это идентификатор файла с данными для дообучения, загруженного в OpenAI.\n",
        "\n",
        "3. **Выбор модели для дообучения**: Аргумент `model` определяет базовую модель, которая будет дообучаться. Здесь используется `\"gpt-3.5-turbo-0125\"`, что указывает на конкретную версию модели GPT-3.5 Turbo от OpenAI.\n",
        "\n",
        "4. **Настройка гиперпараметров**: В словаре `hyperparameters` задаются гиперпараметры для процесса дообучения. В данном примере задан один гиперпараметр: `\"n_epochs\": 3`, который указывает количество эпох дообучения. Эпоха — это один проход через полный набор данных, используемых для тренировки.\n",
        "\n",
        "5. **Суффикс для идентификации модели**: Аргумент `suffix` позволяет задать суффикс для имени дообученной модели, что облегчает её идентификацию и использование в дальнейшем. В этом случае используется `'uii-dz'` для идентификации модели, дообученной на задачах вопросов и ответов для Университета Искусственного Интеллекта.\n",
        "\n",
        "После выполнения этого кода начнется процесс дообучения модели с заданными параметрами. Дообученная модель будет лучше адаптирована к специфике данных, на которых она была дообучена, что может значительно улучшить её производительность в соответствующих задачах."
      ],
      "metadata": {
        "id": "6zYYgP3jX-Z7"
      }
    },
    {
      "cell_type": "code",
      "source": [
        "client.fine_tuning.jobs.create(\n",
        "  training_file=\"file-TLiH0em1jH65ArglME7bMTiD\",\n",
        "  model=\"gpt-3.5-turbo-0125\",\n",
        "  hyperparameters={\n",
        "    \"n_epochs\":10\n",
        "  },\n",
        "  suffix='uii-dz'\n",
        ")"
      ],
      "metadata": {
        "colab": {
          "base_uri": "https://localhost:8080/",
          "height": 127
        },
        "id": "ZJMJrGL9E3Aw",
        "outputId": "427a9c4f-ba69-4dc3-a486-25ef6912e5b6"
      },
      "execution_count": null,
      "outputs": [
        {
          "output_type": "display_data",
          "data": {
            "text/plain": [
              "<IPython.core.display.HTML object>"
            ],
            "text/html": [
              "\n",
              "    <style>\n",
              "    pre {\n",
              "        white-space: pre-wrap;\n",
              "    }\n",
              "    </style>\n",
              "    "
            ]
          },
          "metadata": {}
        },
        {
          "output_type": "execute_result",
          "data": {
            "text/plain": [
              "FineTuningJob(id='ftjob-1lxqpFFTe0nkByIi377eEDjO', created_at=1715867860, error=Error(code=None, message=None, param=None), fine_tuned_model=None, finished_at=None, hyperparameters=Hyperparameters(n_epochs=10, batch_size='auto', learning_rate_multiplier='auto'), model='gpt-3.5-turbo-0125', object='fine_tuning.job', organization_id='org-YpyuSieozQNwrTwCqnJtFMdk', result_files=[], status='validating_files', trained_tokens=None, training_file='file-TLiH0em1jH65ArglME7bMTiD', validation_file=None, user_provided_suffix='uii-dz', seed=2064596564, estimated_finish=None, integrations=[])"
            ]
          },
          "metadata": {},
          "execution_count": 12
        }
      ]
    },
    {
      "cell_type": "markdown",
      "source": [
        "Контролировать процесс обучения равно как и запуск его с помощью создного файла датасета можно в личном кабинете платформы OpenAI https://platform.openai.com/finetune"
      ],
      "metadata": {
        "id": "9ymzVdn-IPS_"
      }
    },
    {
      "cell_type": "markdown",
      "source": [
        "### Процесс обучения (Succeeded). Длительность обучения составила 7 минут."
      ],
      "metadata": {
        "id": "GecWZthkiJCL"
      }
    },
    {
      "cell_type": "markdown",
      "source": [
        "### Методы позволяющие получить данные или управлять запущенными заданиями во время или после их выполнения"
      ],
      "metadata": {
        "id": "fHi4mAOS3Hzp"
      }
    },
    {
      "cell_type": "markdown",
      "source": [
        "* Получить список 10 fine-tuning задач\n",
        "client.fine_tuning.jobs.list(limit=10)\n",
        "\n",
        "* Вернуть состояние задачи fine-tune\n",
        "client.fine_tuning.jobs.retrieve(\"ftjob-1lxqpFFTe0nkByIi377eEDjO\")\n",
        "\n",
        "* Получить список  10 событий fine-tuning задач\n",
        "client.fine_tuning.jobs.list_events(fine_tuning_job_id=\"ftjob-1lxqpFFTe0nkByIi377eEDjO\", limit=10)"
      ],
      "metadata": {
        "id": "1HNFB7t9qGoD"
      }
    },
    {
      "cell_type": "markdown",
      "source": [
        "#### Получить список 10 fine-tuning задач client.fine_tuning.jobs.list(limit=10)"
      ],
      "metadata": {
        "id": "xr4wIA7P3eAH"
      }
    },
    {
      "cell_type": "code",
      "source": [
        "# Функция для улучшения визуального восприятия возвращаемого результата\n",
        "def parse_and_print_fine_tuning_jobs(jobs):\n",
        "    print(\"Fine Tuning Jobs:\")\n",
        "    for job in jobs.data:\n",
        "        created_at = datetime.fromtimestamp(job.created_at).strftime('%Y-%m-%d %H:%M:%S')\n",
        "        finished_at = datetime.fromtimestamp(job.finished_at).strftime('%Y-%m-%d %H:%M:%S') if job.finished_at else \"N/A\"\n",
        "        print(f\"\\nID: {job.id}\")\n",
        "        print(f\"Created At: {created_at}\")\n",
        "        print(f\"Model: {job.model}\")\n",
        "        print(f\"Status: {job.status}\")\n",
        "        print(f\"Training File: {job.training_file}\")\n",
        "        print(f\"Validation File: {job.validation_file if job.validation_file else 'None'}\")\n",
        "        print(f\"Organization ID: {job.organization_id}\")\n",
        "        print(f\"User Provided Suffix: {job.user_provided_suffix}\")\n",
        "        print(f\"Seed: {job.seed}\")\n",
        "        print(f\"Finished At: {finished_at}\")\n",
        "        print(\"Hyperparameters:\")\n",
        "        print(f\"  N Epochs: {job.hyperparameters.n_epochs}\")\n",
        "        print(f\"  Batch Size: {job.hyperparameters.batch_size}\")\n",
        "        print(f\"  Learning Rate Multiplier: {job.hyperparameters.learning_rate_multiplier}\")\n",
        "\n",
        "\n",
        "jobs = client.fine_tuning.jobs.list(limit=1)\n",
        "parse_and_print_fine_tuning_jobs(jobs)"
      ],
      "metadata": {
        "colab": {
          "base_uri": "https://localhost:8080/",
          "height": 309
        },
        "id": "mSNbR1PGG773",
        "outputId": "2bc579b7-425a-470b-9dda-b794be556300"
      },
      "execution_count": null,
      "outputs": [
        {
          "output_type": "display_data",
          "data": {
            "text/plain": [
              "<IPython.core.display.HTML object>"
            ],
            "text/html": [
              "\n",
              "    <style>\n",
              "    pre {\n",
              "        white-space: pre-wrap;\n",
              "    }\n",
              "    </style>\n",
              "    "
            ]
          },
          "metadata": {}
        },
        {
          "output_type": "stream",
          "name": "stdout",
          "text": [
            "Fine Tuning Jobs:\n",
            "\n",
            "ID: ftjob-1lxqpFFTe0nkByIi377eEDjO\n",
            "Created At: 2024-05-16 13:57:40\n",
            "Model: gpt-3.5-turbo-0125\n",
            "Status: running\n",
            "Training File: file-TLiH0em1jH65ArglME7bMTiD\n",
            "Validation File: None\n",
            "Organization ID: org-YpyuSieozQNwrTwCqnJtFMdk\n",
            "User Provided Suffix: uii-dz\n",
            "Seed: 2064596564\n",
            "Finished At: N/A\n",
            "Hyperparameters:\n",
            "  N Epochs: 10\n",
            "  Batch Size: 1\n",
            "  Learning Rate Multiplier: 2\n"
          ]
        }
      ]
    },
    {
      "cell_type": "markdown",
      "source": [
        "#### Вернуть состояние задачи fine-tune client.fine_tuning.jobs.retrieve(\"ftjob-1lxqpFFTe0nkByIi377eEDjO\")"
      ],
      "metadata": {
        "id": "d_HR__Po3iGF"
      }
    },
    {
      "cell_type": "code",
      "source": [
        "# Функция для улучшения визуального восприятия возвращаемого результата\n",
        "def parse_and_print_fine_tuning_job(job):\n",
        "    created_at = datetime.fromtimestamp(job.created_at).strftime('%Y-%m-%d %H:%M:%S')\n",
        "    finished_at = datetime.fromtimestamp(job.finished_at).strftime('%Y-%m-%d %H:%M:%S') if job.finished_at else \"N/A\"\n",
        "\n",
        "    print(\"Fine Tuning Job Details:\")\n",
        "    print(f\"ID: {job.id}\")\n",
        "    print(f\"Created At: {created_at}\")\n",
        "    print(f\"Model: {job.model}\")\n",
        "    print(f\"Status: {job.status}\")\n",
        "    print(f\"Training File: {job.training_file}\")\n",
        "    print(f\"Validation File: {job.validation_file if job.validation_file else 'None'}\")\n",
        "    print(f\"Organization ID: {job.organization_id}\")\n",
        "    print(f\"User Provided Suffix: {job.user_provided_suffix}\")\n",
        "    print(f\"Seed: {job.seed}\")\n",
        "    print(f\"Finished At: {finished_at}\")\n",
        "    print(\"Hyperparameters:\")\n",
        "    print(f\"  N Epochs: {job.hyperparameters.n_epochs}\")\n",
        "    print(f\"  Batch Size: {job.hyperparameters.batch_size}\")\n",
        "    print(f\"  Learning Rate Multiplier: {job.hyperparameters.learning_rate_multiplier}\")\n",
        "    print(\"Error (if any):\")\n",
        "    if job.error and job.error.message:\n",
        "        print(f\"  Code: {job.error.code}\")\n",
        "        print(f\"  Message: {job.error.message}\")\n",
        "        print(f\"  Param: {job.error.param}\")\n",
        "    else:\n",
        "        print(\"  None\")\n",
        "\n",
        "job = client.fine_tuning.jobs.retrieve(\"ftjob-1lxqpFFTe0nkByIi377eEDjO\")\n",
        "parse_and_print_fine_tuning_job(job)"
      ],
      "metadata": {
        "colab": {
          "base_uri": "https://localhost:8080/",
          "height": 328
        },
        "id": "0uoND4tZHBqF",
        "outputId": "1507de7e-c6b5-4a32-a964-583919c81db3"
      },
      "execution_count": null,
      "outputs": [
        {
          "output_type": "display_data",
          "data": {
            "text/plain": [
              "<IPython.core.display.HTML object>"
            ],
            "text/html": [
              "\n",
              "    <style>\n",
              "    pre {\n",
              "        white-space: pre-wrap;\n",
              "    }\n",
              "    </style>\n",
              "    "
            ]
          },
          "metadata": {}
        },
        {
          "output_type": "stream",
          "name": "stdout",
          "text": [
            "Fine Tuning Job Details:\n",
            "ID: ftjob-1lxqpFFTe0nkByIi377eEDjO\n",
            "Created At: 2024-05-16 13:57:40\n",
            "Model: gpt-3.5-turbo-0125\n",
            "Status: running\n",
            "Training File: file-TLiH0em1jH65ArglME7bMTiD\n",
            "Validation File: None\n",
            "Organization ID: org-YpyuSieozQNwrTwCqnJtFMdk\n",
            "User Provided Suffix: uii-dz\n",
            "Seed: 2064596564\n",
            "Finished At: N/A\n",
            "Hyperparameters:\n",
            "  N Epochs: 10\n",
            "  Batch Size: 1\n",
            "  Learning Rate Multiplier: 2\n",
            "Error (if any):\n",
            "  None\n"
          ]
        }
      ]
    },
    {
      "cell_type": "markdown",
      "source": [
        "#### Получить список 10 событий fine-tuning задач client.fine_tuning.jobs.list_events(fine_tuning_job_id=\"ftjob-7f9IEiXu96T3YLthBB5mtZZ7\", limit=10)"
      ],
      "metadata": {
        "id": "lN1mzzU53sbw"
      }
    },
    {
      "cell_type": "code",
      "source": [
        "# Функция для улучшения визуального восприятия возвращаемого результата\n",
        "def parse_and_print_fine_tuning_events(events):\n",
        "    print(\"Fine Tuning Job Events:\")\n",
        "    for event in events.data:\n",
        "        created_at = datetime.fromtimestamp(event.created_at).strftime('%Y-%m-%d %H:%M:%S')\n",
        "        print(f\"\\nID: {event.id}\")\n",
        "        print(f\"Created At: {created_at}\")\n",
        "        print(f\"Level: {event.level}\")\n",
        "        print(f\"Message: {event.message}\")\n",
        "        print(f\"Type: {event.type}\")\n",
        "\n",
        "events = client.fine_tuning.jobs.list_events(fine_tuning_job_id=\"ftjob-1lxqpFFTe0nkByIi377eEDjO\", limit=10)\n",
        "\n",
        "parse_and_print_fine_tuning_events(events)"
      ],
      "metadata": {
        "colab": {
          "base_uri": "https://localhost:8080/",
          "height": 1000
        },
        "id": "5uZHpGsjHOwT",
        "outputId": "d72f08ce-8bd8-4311-e066-4e5ce96219cb"
      },
      "execution_count": null,
      "outputs": [
        {
          "output_type": "display_data",
          "data": {
            "text/plain": [
              "<IPython.core.display.HTML object>"
            ],
            "text/html": [
              "\n",
              "    <style>\n",
              "    pre {\n",
              "        white-space: pre-wrap;\n",
              "    }\n",
              "    </style>\n",
              "    "
            ]
          },
          "metadata": {}
        },
        {
          "output_type": "stream",
          "name": "stdout",
          "text": [
            "Fine Tuning Job Events:\n",
            "\n",
            "ID: ftevent-9dcVxXNCJwXI0GGRoCgjd6BO\n",
            "Created At: 2024-05-16 14:03:18\n",
            "Level: info\n",
            "Message: The job has successfully completed\n",
            "Type: message\n",
            "\n",
            "ID: ftevent-P4DKhyysRAfieo8HGAQaZkjn\n",
            "Created At: 2024-05-16 14:03:15\n",
            "Level: info\n",
            "Message: New fine-tuned model created: ft:gpt-3.5-turbo-0125:uii:uii-dz:9PVzPR9K\n",
            "Type: message\n",
            "\n",
            "ID: ftevent-L4ZLyPHagf6Jr4WXoyYquiVv\n",
            "Created At: 2024-05-16 14:03:15\n",
            "Level: info\n",
            "Message: Checkpoint created at step 90 with Snapshot ID: ft:gpt-3.5-turbo-0125:uii:uii-dz:9PVzOQo9:ckpt-step-90\n",
            "Type: message\n",
            "\n",
            "ID: ftevent-lrNCiwIfP8Xmx6c0SOOvcZX6\n",
            "Created At: 2024-05-16 14:03:15\n",
            "Level: info\n",
            "Message: Checkpoint created at step 80 with Snapshot ID: ft:gpt-3.5-turbo-0125:uii:uii-dz:9PVzO0O6:ckpt-step-80\n",
            "Type: message\n",
            "\n",
            "ID: ftevent-K5HGfyKF0E3BV45tMm0yScPS\n",
            "Created At: 2024-05-16 14:03:09\n",
            "Level: info\n",
            "Message: Step 100/100: training loss=0.00\n",
            "Type: metrics\n",
            "\n",
            "ID: ftevent-74tOQBV7AQ9qUSUT0cAKx1cM\n",
            "Created At: 2024-05-16 14:03:05\n",
            "Level: info\n",
            "Message: Step 99/100: training loss=0.00\n",
            "Type: metrics\n",
            "\n",
            "ID: ftevent-h5awRJj0ltTjGmxlqBY2z1VN\n",
            "Created At: 2024-05-16 14:03:03\n",
            "Level: info\n",
            "Message: Step 98/100: training loss=0.00\n",
            "Type: metrics\n",
            "\n",
            "ID: ftevent-DyBGUA9xQMqQ97g627fDCvAH\n",
            "Created At: 2024-05-16 14:03:01\n",
            "Level: info\n",
            "Message: Step 97/100: training loss=0.00\n",
            "Type: metrics\n",
            "\n",
            "ID: ftevent-GXjnKQyU8Ic99YCJbXMVmcKg\n",
            "Created At: 2024-05-16 14:03:01\n",
            "Level: info\n",
            "Message: Step 96/100: training loss=0.00\n",
            "Type: metrics\n",
            "\n",
            "ID: ftevent-bmMlNPK9jjBSqIh1FGfjPNLO\n",
            "Created At: 2024-05-16 14:02:59\n",
            "Level: info\n",
            "Message: Step 95/100: training loss=0.00\n",
            "Type: metrics\n"
          ]
        }
      ]
    },
    {
      "cell_type": "markdown",
      "source": [
        "По графику обучения видно что величина ошиьбки достигла 0 уже на 3 эпохе (10 примеров *3эпохи = 30 шагов).\n",
        "\n",
        "Поэтому по факту можно было обучать меньше, или воспользоваться промежуточными точками сохранения.\n",
        "\n",
        "Длительность обучения составила 7 минут."
      ],
      "metadata": {
        "id": "PTEFVJklv0e5"
      }
    },
    {
      "cell_type": "markdown",
      "source": [
        "#### Скрин платформы OpenAI"
      ],
      "metadata": {
        "id": "NsotQXQy1EMq"
      }
    },
    {
      "cell_type": "markdown",
      "source": [
        "![image.png](data:image/png;base64,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)"
      ],
      "metadata": {
        "id": "CqCWoSPvuACn"
      }
    },
    {
      "cell_type": "markdown",
      "source": [
        "## Использую точно настроенную модель\n"
      ],
      "metadata": {
        "id": "JBJxsLHPl-az"
      }
    },
    {
      "cell_type": "code",
      "source": [
        "system_message = \"\"\"Укажите следующие поля в JSON словаре: \\\"Название\\\", \\\"Вес\\\", \\\"Размер/диагональ\\\", \\\"Цвет\\\", \\\"Память/накопитель\\\", \\\"Процессор\\\", \\\"Разрешение\\\", \\\"Порты/интерфейсы\\\", \\\"Скорость\\\", and \\\"Комментарий\\\".\"\"\""
      ],
      "metadata": {
        "colab": {
          "base_uri": "https://localhost:8080/",
          "height": 17
        },
        "id": "NFdG3E3KxSxs",
        "outputId": "a40ec9c2-cd44-4810-c883-9f323dba0422"
      },
      "execution_count": null,
      "outputs": [
        {
          "output_type": "display_data",
          "data": {
            "text/plain": [
              "<IPython.core.display.HTML object>"
            ],
            "text/html": [
              "\n",
              "    <style>\n",
              "    pre {\n",
              "        white-space: pre-wrap;\n",
              "    }\n",
              "    </style>\n",
              "    "
            ]
          },
          "metadata": {}
        }
      ]
    },
    {
      "cell_type": "markdown",
      "source": [
        "### Пример 1"
      ],
      "metadata": {
        "id": "GclTyRbl32BP"
      }
    },
    {
      "cell_type": "code",
      "source": [
        "question = \"Игровая консоль. Вес 3 килограмма, черный цвет, поддержка HDMI и USB, 1 ТБ встроенной памяти, процессор AMD Ryzen, разрешение 4K, скорость загрузки игр до 100 Мбит/с.\"\n",
        "\n",
        "completion = client.chat.completions.create(\n",
        "  model=\"ft:gpt-3.5-turbo-0125:uii:uii-dz:9PVzPR9K\",\n",
        "  messages=[\n",
        "    {\"role\": \"system\", \"content\": system_message},\n",
        "    {\"role\": \"user\", \"content\": question}\n",
        "  ],\n",
        "  temperature=0.0\n",
        ")\n",
        "print(completion.choices[0].message.content)\n",
        "print()\n",
        "print(f'Токенов на ответ: {completion.usage.completion_tokens}, промпт: {completion.usage.prompt_tokens}, всего: {completion.usage.total_tokens}')"
      ],
      "metadata": {
        "colab": {
          "base_uri": "https://localhost:8080/",
          "height": 108
        },
        "id": "PwTrUlPUl9v6",
        "outputId": "6f9107b0-7db9-4967-87b0-6456ccceaecf"
      },
      "execution_count": null,
      "outputs": [
        {
          "output_type": "display_data",
          "data": {
            "text/plain": [
              "<IPython.core.display.HTML object>"
            ],
            "text/html": [
              "\n",
              "    <style>\n",
              "    pre {\n",
              "        white-space: pre-wrap;\n",
              "    }\n",
              "    </style>\n",
              "    "
            ]
          },
          "metadata": {}
        },
        {
          "output_type": "stream",
          "name": "stdout",
          "text": [
            "{\\\"Название\\\": \\\"Игровая консоль\\\", \\\"Вес\\\": \\\"3 кг\\\", \\\"Размер/диагональ\\\": null, \\\"Цвет\\\": \\\"Черный\\\", \\\"Память/накопитель\\\": \\\"1 ТБ\\\", \\\"Процессор\\\": \\\"AMD Ryzen\\\", \\\"Разрешение\\\": \\\"4K\\\", \\\"Порты/интерфейсы\\\": \\\"HDMI, USB\\\", \\\"Скорость\\\": \\\"до 100 Мбит/с\\\", \\\"Комментарий\\\": null}\n",
            "\n",
            "Токенов на ответ: 124, промпт: 173, всего: 297\n"
          ]
        }
      ]
    },
    {
      "cell_type": "markdown",
      "source": [
        "### Пример 2"
      ],
      "metadata": {
        "id": "FCSgL2vK35CU"
      }
    },
    {
      "cell_type": "code",
      "source": [
        "question = \"Маршрутизатор для дома. Вес 400 граммов, белый цвет, поддержка Ethernet и Wi-Fi, скорость передачи данных до 1200 Мбит/с, 4 порта LAN, поддержка двойного диапазона.\"\n",
        "\n",
        "completion = client.chat.completions.create(\n",
        "  model=\"ft:gpt-3.5-turbo-0125:uii:uii-dz:9PVzPR9K\",\n",
        "  messages=[\n",
        "    {\"role\": \"system\", \"content\": system_message},\n",
        "    {\"role\": \"user\", \"content\": question}\n",
        "  ],\n",
        "  temperature=0.0\n",
        ")\n",
        "print(completion.choices[0].message.content)\n",
        "print()\n",
        "print(f'Токенов на ответ: {completion.usage.completion_tokens}, промпт: {completion.usage.prompt_tokens}, всего: {completion.usage.total_tokens}')"
      ],
      "metadata": {
        "colab": {
          "base_uri": "https://localhost:8080/",
          "height": 108
        },
        "id": "6UWS77wKJ_6j",
        "outputId": "fabb53a9-7d89-4b94-96a5-86a6f9e2fdfb"
      },
      "execution_count": null,
      "outputs": [
        {
          "output_type": "display_data",
          "data": {
            "text/plain": [
              "<IPython.core.display.HTML object>"
            ],
            "text/html": [
              "\n",
              "    <style>\n",
              "    pre {\n",
              "        white-space: pre-wrap;\n",
              "    }\n",
              "    </style>\n",
              "    "
            ]
          },
          "metadata": {}
        },
        {
          "output_type": "stream",
          "name": "stdout",
          "text": [
            "{\\\"Название\\\": \\\"Маршрутизатор\\\", \\\"Вес\\\": \\\"400 г\\\", \\\"Размер/диагональ\\\": null, \\\"Цвет\\\": \\\"Белый\\\", \\\"Память/накопитель\\\": null, \\\"Процессор\\\": null, \\\"Разрешение\\\": null, \\\"Порты/интерфейсы\\\": \\\"Ethernet, Wi-Fi, 4 порта LAN\\\", \\\"Скорость\\\": \\\"до 1200 Мбит/с\\\", \\\"Комментарий\\\": null}\n",
            "\n",
            "Токенов на ответ: 123, промпт: 169, всего: 292\n"
          ]
        }
      ]
    },
    {
      "cell_type": "markdown",
      "source": [
        "### Пример 3"
      ],
      "metadata": {
        "id": "UBQhsyuu36XR"
      }
    },
    {
      "cell_type": "code",
      "source": [
        "question = \"Смарт-часы для фитнеса. Вес 50 граммов, черный цвет, 1.5 дюймов экран, поддержка Bluetooth, встроенная память 4 ГБ, процессор Qualcomm, водонепроницаемые. Поддержка GPS и мониторинга сердечного ритма.\"\n",
        "\n",
        "completion = client.chat.completions.create(\n",
        "  model=\"ft:gpt-3.5-turbo-0125:uii:uii-dz:9PVzPR9K\",\n",
        "  messages=[\n",
        "    {\"role\": \"system\", \"content\": system_message},\n",
        "    {\"role\": \"user\", \"content\": question}\n",
        "  ],\n",
        "  temperature=0.0\n",
        ")\n",
        "print(completion.choices[0].message.content)\n",
        "print()\n",
        "print(f'Токенов на ответ: {completion.usage.completion_tokens}, промпт: {completion.usage.prompt_tokens}, всего: {completion.usage.total_tokens}')"
      ],
      "metadata": {
        "colab": {
          "base_uri": "https://localhost:8080/",
          "height": 108
        },
        "id": "-aaLuD63PIvh",
        "outputId": "5ed4875a-3b53-4d96-b381-6472ce681f39"
      },
      "execution_count": null,
      "outputs": [
        {
          "output_type": "display_data",
          "data": {
            "text/plain": [
              "<IPython.core.display.HTML object>"
            ],
            "text/html": [
              "\n",
              "    <style>\n",
              "    pre {\n",
              "        white-space: pre-wrap;\n",
              "    }\n",
              "    </style>\n",
              "    "
            ]
          },
          "metadata": {}
        },
        {
          "output_type": "stream",
          "name": "stdout",
          "text": [
            "{\\\"Название\\\": \\\"Смарт-часы\\\", \\\"Вес\\\": \\\"50 г\\\", \\\"Размер/диагональ\\\": \\\"1.5 дюймов\\\", \\\"Цвет\\\": \\\"Черный\\\", \\\"Память/накопитель\\\": \\\"4 ГБ\\\", \\\"Процессор\\\": \\\"Qualcomm\\\", \\\"Разрешение\\\": null, \\\"Порты/интерфейсы\\\": \\\"Bluetooth\\\", \\\"Скорость\\\": null, \\\"Комментарий\\\": \\\"Водонепроницаемые. Поддержка GPS и мониторинга сердечного ритма\\\"}\n",
            "\n",
            "Токенов на ответ: 150, промпт: 195, всего: 345\n"
          ]
        }
      ]
    },
    {
      "cell_type": "markdown",
      "source": [
        "### Пример использования"
      ],
      "metadata": {
        "id": "C-juHjm5xnpa"
      }
    },
    {
      "cell_type": "code",
      "source": [
        "#@title Преобразование json ответа модели в HTML карточку товара\n",
        "\n",
        "import json\n",
        "from IPython.display import HTML\n",
        "\n",
        "# Преобразование JSON в словарь Python\n",
        "product = json.loads(completion.choices[0].message.content.replace(\"\\\\\", \"\"))\n",
        "\n",
        "# Создание HTML-кода\n",
        "html_code = f\"\"\"\n",
        "<!DOCTYPE html>\n",
        "<html>\n",
        "<head>\n",
        "    <style>\n",
        "        .product-card {{\n",
        "            border: 1px solid #ccc;\n",
        "            padding: 16px;\n",
        "            margin: 16px;\n",
        "            border-radius: 8px;\n",
        "            max-width: 300px;\n",
        "            font-family: Arial, sans-serif;\n",
        "        }}\n",
        "        .product-title {{\n",
        "            font-size: 24px;\n",
        "            margin-bottom: 8px;\n",
        "            color: #333;\n",
        "        }}\n",
        "        .product-details {{\n",
        "            list-style: none;\n",
        "            padding: 0;\n",
        "        }}\n",
        "        .product-details li {{\n",
        "            margin-bottom: 4px;\n",
        "        }}\n",
        "    </style>\n",
        "</head>\n",
        "<body>\n",
        "    <div class=\"product-card\">\n",
        "        <h2 class=\"product-title\">{product['Название']}</h2>\n",
        "        <ul class=\"product-details\">\n",
        "            <li><strong>Вес:</strong> {product['Вес']}</li>\n",
        "            <li><strong>Размер/диагональ:</strong> {product['Размер/диагональ'] or '—'}</li>\n",
        "            <li><strong>Цвет:</strong> {product['Цвет']}</li>\n",
        "            <li><strong>Память/накопитель:</strong> {product['Память/накопитель'] or '—'}</li>\n",
        "            <li><strong>Процессор:</strong> {product['Процессор'] or '—'}</li>\n",
        "            <li><strong>Разрешение:</strong> {product['Разрешение'] or '—'}</li>\n",
        "            <li><strong>Порты/интерфейсы:</strong> {product['Порты/интерфейсы']}</li>\n",
        "            <li><strong>Скорость:</strong> {product['Скорость'] or '—'}</li>\n",
        "            <li><strong>Комментарий:</strong> {product['Комментарий'] or '—'}</li>\n",
        "        </ul>\n",
        "    </div>\n",
        "</body>\n",
        "</html>\n",
        "\"\"\"\n",
        "\n",
        "# Отображение HTML\n",
        "display(HTML(html_code))\n"
      ],
      "metadata": {
        "colab": {
          "base_uri": "https://localhost:8080/",
          "height": 369
        },
        "id": "sB79_ynZxs3W",
        "outputId": "20514211-c35c-4a2b-f3f6-07516a8c4d9b"
      },
      "execution_count": null,
      "outputs": [
        {
          "output_type": "display_data",
          "data": {
            "text/plain": [
              "<IPython.core.display.HTML object>"
            ],
            "text/html": [
              "\n",
              "    <style>\n",
              "    pre {\n",
              "        white-space: pre-wrap;\n",
              "    }\n",
              "    </style>\n",
              "    "
            ]
          },
          "metadata": {}
        },
        {
          "output_type": "display_data",
          "data": {
            "text/plain": [
              "<IPython.core.display.HTML object>"
            ],
            "text/html": [
              "\n",
              "<!DOCTYPE html>\n",
              "<html>\n",
              "<head>\n",
              "    <style>\n",
              "        .product-card {\n",
              "            border: 1px solid #ccc;\n",
              "            padding: 16px;\n",
              "            margin: 16px;\n",
              "            border-radius: 8px;\n",
              "            max-width: 300px;\n",
              "            font-family: Arial, sans-serif;\n",
              "        }\n",
              "        .product-title {\n",
              "            font-size: 24px;\n",
              "            margin-bottom: 8px;\n",
              "            color: #333;\n",
              "        }\n",
              "        .product-details {\n",
              "            list-style: none;\n",
              "            padding: 0;\n",
              "        }\n",
              "        .product-details li {\n",
              "            margin-bottom: 4px;\n",
              "        }\n",
              "    </style>\n",
              "</head>\n",
              "<body>\n",
              "    <div class=\"product-card\">\n",
              "        <h2 class=\"product-title\">Смарт-часы</h2>\n",
              "        <ul class=\"product-details\">\n",
              "            <li><strong>Вес:</strong> 50 г</li>\n",
              "            <li><strong>Размер/диагональ:</strong> 1.5 дюймов</li>\n",
              "            <li><strong>Цвет:</strong> Черный</li>\n",
              "            <li><strong>Память/накопитель:</strong> 4 ГБ</li>\n",
              "            <li><strong>Процессор:</strong> Qualcomm</li>\n",
              "            <li><strong>Разрешение:</strong> —</li>\n",
              "            <li><strong>Порты/интерфейсы:</strong> Bluetooth</li>\n",
              "            <li><strong>Скорость:</strong> —</li>\n",
              "            <li><strong>Комментарий:</strong> Водонепроницаемые. Поддержка GPS и мониторинга сердечного ритма</li>\n",
              "        </ul>\n",
              "    </div>\n",
              "</body>\n",
              "</html>\n"
            ]
          },
          "metadata": {}
        }
      ]
    },
    {
      "cell_type": "markdown",
      "source": [
        "## Результат"
      ],
      "metadata": {
        "id": "EslrbG3OKAO0"
      }
    },
    {
      "cell_type": "markdown",
      "source": [
        "Всего из 10 примеров составил датасет, обучил модель и применил на практике как инструмент для помощи сотруднику при заполнении карточек товаров."
      ],
      "metadata": {
        "id": "cCpxyNAjKJlJ"
      }
    }
  ]
}